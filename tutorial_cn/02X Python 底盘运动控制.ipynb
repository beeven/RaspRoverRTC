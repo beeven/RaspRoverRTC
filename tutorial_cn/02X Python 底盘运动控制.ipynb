{
 "cells": [
  {
   "cell_type": "code",
   "execution_count": 3,
   "id": "25274323-564f-4843-9b9a-2ff44fa28e06",
   "metadata": {},
   "outputs": [],
   "source": [
    "# 导入用于控制底盘的库\n",
    "from base_ctrl import BaseController\n",
    "\n",
    "# 设置串口设备名称和通信波特率，以下设置为产品的默认设置，通常不需要更改\n",
    "base = BaseController('/dev/serial0', 115200)\n",
    "\n",
    "IO4_PWM = 0\n",
    "IO5_PWM = 0\n",
    "\n",
    "base.lights_ctrl(IO4_PWM, IO5_PWM)"
   ]
  }
 ],
 "metadata": {
  "kernelspec": {
   "display_name": "Python 3 (ipykernel)",
   "language": "python",
   "name": "python3"
  },
  "language_info": {
   "codemirror_mode": {
    "name": "ipython",
    "version": 3
   },
   "file_extension": ".py",
   "mimetype": "text/x-python",
   "name": "python",
   "nbconvert_exporter": "python",
   "pygments_lexer": "ipython3",
   "version": "3.11.2"
  }
 },
 "nbformat": 4,
 "nbformat_minor": 5
}
