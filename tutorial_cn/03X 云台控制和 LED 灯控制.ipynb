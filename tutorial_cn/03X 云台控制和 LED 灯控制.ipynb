{
 "cells": [
  {
   "cell_type": "markdown",
   "id": "ca4f7886-ab01-47e6-b040-f7d6df45ffe4",
   "metadata": {},
   "source": [
    "# T1 LED灯光控制\n",
    "## 基础介绍\n",
    "WAVE ROVER和UGV系列产品，驱动板上集成了两路12V开关控制接口（实际最高电压会随着电池电压而改变），分别为由ESP32的IO4和IO5引脚通过MOS管来控制，每路对应有两个接口，一共4个12V开关控制接口，按照默认的组装方式，IO4控制底盘大灯（WAVE ROVER没有底盘大灯），IO5控制头灯，你可以通过向下位机发送相应的指令来控制这两路接口的开关以及控制电压高低（但由于MOS管控制本身存在一定的延时所以ESP32的IO输出的PWM与实际接口输出的电压不成线性关系）。\n",
    "\n",
    "对于没有配有LED灯的产品，你可以自行在这两路12V开关控制接口上扩展耐压12.6V的LED灯（一般情况下耐压12V的也可以，因为为了安全和保护电池，产品的UPS不会将电池电量充到12V以上），你也可以在剩余的开关控制接口上扩展其它外设——例如耐压12V的水弹枪波箱，直接连接在IO5控制的接口上，即可实现自动瞄准和射击的功能。\n",
    "\n",
    "如果需要运行代码块内的程序，你可以选中需要运行的代码块，然后按Ctrl+Enter来运行程序，如果你在手机或平板电脑上使用JupyterLab，你可以按上方的三角形播放按键来运行代码块。"
   ]
  },
  {
   "cell_type": "code",
   "execution_count": 1,
   "id": "1a671658-bb3d-4606-a6aa-535558a22e21",
   "metadata": {},
   "outputs": [],
   "source": [
    "# 导入用于控制底盘的库\n",
    "from base_ctrl import BaseController\n",
    "\n",
    "# 设置串口设备名称和通信波特率，以下设置为产品的默认设置，通常不需要更改\n",
    "base = BaseController('/dev/ttyAMA0', 115200)"
   ]
  },
  {
   "cell_type": "markdown",
   "id": "d53371f4-1f31-44b8-88fe-293af7d690df",
   "metadata": {},
   "source": [
    "在上面的代码块中我们导入并实例化了用于控制底盘的库，接下来控制IO4接口的开关，变量IO4_PWM为ESP32的IO4引脚输出的PWM，变量范围为0-255，当此变量值为0时，IO4控制的接口开关关闭；当此变量为255时，IO4控制的接口开关输出的电压接近UPS的BAT电压（当前UPS内三节锂电池串联的电压）。\n",
    "\n",
    "运行以下代码块开启IO4控制的接口开关（亮起底盘大灯）。\n",
    "注意: WAVE ROVE 没有底盘大灯，所以运行以下代码块是没有变化的，需要运行再下一个开启头灯的代码块才会开启头灯，头灯位于摄像头云台上，如果产品没有配有摄像头云台则没有头灯。"
   ]
  },
  {
   "cell_type": "code",
   "execution_count": 2,
   "id": "f3f2e713-806f-4697-9fe0-b5b999d15dad",
   "metadata": {},
   "outputs": [],
   "source": [
    "IO4_PWM = 255\n",
    "IO5_PWM = 0\n",
    "\n",
    "base.lights_ctrl(IO4_PWM, IO5_PWM)"
   ]
  },
  {
   "cell_type": "markdown",
   "id": "53e9e53d-eef3-46dc-9ad9-dafa8b5c75b0",
   "metadata": {},
   "source": [
    "运行以下代码块开启IO5控制的接口开关（亮起云台头灯）。\n",
    "注意：如果产品没有配有摄像头云台则没有头灯。"
   ]
  },
  {
   "cell_type": "code",
   "execution_count": 3,
   "id": "383fa52b-a885-49b0-849e-c705b5008c9b",
   "metadata": {},
   "outputs": [],
   "source": [
    "IO4_PWM = 255\n",
    "IO5_PWM = 255\n",
    "\n",
    "base.lights_ctrl(IO4_PWM, IO5_PWM)"
   ]
  },
  {
   "cell_type": "markdown",
   "id": "fedc79fb-8b62-461b-a20d-099cc6a50a69",
   "metadata": {},
   "source": [
    "如果你的产品带有LED灯，到目前为止应该已经全部亮起了，你可以运行以下代码块来降低LED灯的亮度。"
   ]
  },
  {
   "cell_type": "code",
   "execution_count": 4,
   "id": "02816322-8fe9-43ee-a9ff-43d73d95b097",
   "metadata": {},
   "outputs": [],
   "source": [
    "IO4_PWM = 64\n",
    "IO5_PWM = 64\n",
    "\n",
    "base.lights_ctrl(IO4_PWM, IO5_PWM)"
   ]
  },
  {
   "cell_type": "markdown",
   "id": "dc21bfa5-b8e9-4147-b26f-f2ae82f767f9",
   "metadata": {},
   "source": [
    "最后，运行以下代码块来关闭LED灯。"
   ]
  },
  {
   "cell_type": "code",
   "execution_count": 5,
   "id": "50be9795-b358-4dcd-a9cc-12df8ee0f03b",
   "metadata": {},
   "outputs": [],
   "source": [
    "base.lights_ctrl(0, 0)"
   ]
  }
 ],
 "metadata": {
  "kernelspec": {
   "display_name": "Python 3 (ipykernel)",
   "language": "python",
   "name": "python3"
  },
  "language_info": {
   "codemirror_mode": {
    "name": "ipython",
    "version": 3
   },
   "file_extension": ".py",
   "mimetype": "text/x-python",
   "name": "python",
   "nbconvert_exporter": "python",
   "pygments_lexer": "ipython3",
   "version": "3.11.2"
  }
 },
 "nbformat": 4,
 "nbformat_minor": 5
}
